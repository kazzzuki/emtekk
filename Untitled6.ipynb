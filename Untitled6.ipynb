{
  "nbformat": 4,
  "nbformat_minor": 0,
  "metadata": {
    "colab": {
      "provenance": [],
      "gpuType": "T4"
    },
    "kernelspec": {
      "name": "python3",
      "display_name": "Python 3"
    },
    "language_info": {
      "name": "python"
    }
  },
  "cells": [
    {
      "cell_type": "markdown",
      "source": [
        "# Install Dependencies"
      ],
      "metadata": {
        "id": "x23qfCdFKxxC"
      }
    },
    {
      "cell_type": "code",
      "execution_count": 13,
      "metadata": {
        "colab": {
          "base_uri": "https://localhost:8080/"
        },
        "id": "qCRsd_zUKV9X",
        "outputId": "951c128e-3f78-495c-dbb2-5d5f910b05ef"
      },
      "outputs": [
        {
          "output_type": "stream",
          "name": "stdout",
          "text": [
            "Requirement already satisfied: numpy in /usr/local/lib/python3.10/dist-packages (1.26.4)\n",
            "Requirement already satisfied: Pillow in /usr/local/lib/python3.10/dist-packages (11.0.0)\n",
            "Requirement already satisfied: matplotlib in /usr/local/lib/python3.10/dist-packages (3.8.0)\n",
            "Requirement already satisfied: imutils in /usr/local/lib/python3.10/dist-packages (0.5.4)\n",
            "Requirement already satisfied: opencv-python-headless in /usr/local/lib/python3.10/dist-packages (4.10.0.84)\n",
            "Requirement already satisfied: scipy in /usr/local/lib/python3.10/dist-packages (1.13.1)\n",
            "Requirement already satisfied: contourpy>=1.0.1 in /usr/local/lib/python3.10/dist-packages (from matplotlib) (1.3.1)\n",
            "Requirement already satisfied: cycler>=0.10 in /usr/local/lib/python3.10/dist-packages (from matplotlib) (0.12.1)\n",
            "Requirement already satisfied: fonttools>=4.22.0 in /usr/local/lib/python3.10/dist-packages (from matplotlib) (4.55.0)\n",
            "Requirement already satisfied: kiwisolver>=1.0.1 in /usr/local/lib/python3.10/dist-packages (from matplotlib) (1.4.7)\n",
            "Requirement already satisfied: packaging>=20.0 in /usr/local/lib/python3.10/dist-packages (from matplotlib) (24.2)\n",
            "Requirement already satisfied: pyparsing>=2.3.1 in /usr/local/lib/python3.10/dist-packages (from matplotlib) (3.2.0)\n",
            "Requirement already satisfied: python-dateutil>=2.7 in /usr/local/lib/python3.10/dist-packages (from matplotlib) (2.8.2)\n",
            "Requirement already satisfied: six>=1.5 in /usr/local/lib/python3.10/dist-packages (from python-dateutil>=2.7->matplotlib) (1.16.0)\n"
          ]
        }
      ],
      "source": [
        "!pip install numpy Pillow matplotlib imutils opencv-python-headless scipy\n"
      ]
    },
    {
      "cell_type": "markdown",
      "source": [
        "# Import Necessary Libraries"
      ],
      "metadata": {
        "id": "WVuGKwTVK2ee"
      }
    },
    {
      "cell_type": "code",
      "source": [
        "import numpy as np\n",
        "from PIL import Image\n",
        "import matplotlib.pyplot as plt\n",
        "import imutils\n",
        "import cv2\n",
        "from scipy import ndimage\n",
        "import time\n"
      ],
      "metadata": {
        "id": "AdmlGG0nK7nH"
      },
      "execution_count": 14,
      "outputs": []
    },
    {
      "cell_type": "markdown",
      "source": [
        "# Template Image Class"
      ],
      "metadata": {
        "id": "CwFfKWfiK-PF"
      }
    },
    {
      "cell_type": "code",
      "source": [
        "class Template:\n",
        "    def __init__(self, image_paths, a=1, b=1):\n",
        "        # Load all images and convert them to numpy arrays\n",
        "        images = [np.array(Image.open(img).convert(\"L\"), dtype=np.float32) for img in image_paths]\n",
        "\n",
        "        # Calculate mean image\n",
        "        self.image = np.mean(images, axis=0)\n",
        "\n",
        "        # Calculate standard deviation\n",
        "        self.std = np.std(images, axis=0)\n",
        "\n",
        "        # Set empirical values a and b\n",
        "        self.a = a\n",
        "        self.b = b\n",
        "\n",
        "        # Calculate light and dark images\n",
        "        self.light = np.clip(self.image + np.maximum(self.a, self.b * self.std), 0, 255)\n",
        "        self.dark = np.clip(self.image - np.maximum(self.a, self.b * self.std), 0, 255)\n",
        "\n",
        "    def get_template_image(self):\n",
        "        return Image.fromarray(self.image.astype(np.uint8))\n",
        "\n",
        "    def get_light_image(self):\n",
        "        return Image.fromarray(self.light.astype(np.uint8))\n",
        "\n",
        "    def get_dark_image(self):\n",
        "        return Image.fromarray(self.dark.astype(np.uint8))"
      ],
      "metadata": {
        "id": "aBY3_4E_7YWp"
      },
      "execution_count": 15,
      "outputs": []
    },
    {
      "cell_type": "markdown",
      "source": [
        "# Image Registration and Alignment"
      ],
      "metadata": {
        "id": "c_e2XsYj7Z8k"
      }
    },
    {
      "cell_type": "code",
      "source": [
        "# Function to create a binary mask for defects\n",
        "def get_marked_image(image_src, kernel_size, rotation=0, ideal=True):\n",
        "    sample = np.asarray(image_src)\n",
        "    fixed = sample if ideal else ndimage.rotate(sample, rotation)\n",
        "\n",
        "    sample_image_gray = np.array(Image.fromarray(fixed).convert(\"L\"), dtype=np.float32)\n",
        "    sample_image_blur = cv2.GaussianBlur(sample_image_gray, (kernel_size, kernel_size), 0)\n",
        "\n",
        "    binary_image = Image.fromarray(sample_image_blur.astype(np.uint8))\n",
        "\n",
        "    return binary_image"
      ],
      "metadata": {
        "id": "3TvJybRo7chI"
      },
      "execution_count": 16,
      "outputs": []
    },
    {
      "cell_type": "markdown",
      "source": [
        "# Measure Latency"
      ],
      "metadata": {
        "id": "HHXiDLak7fXd"
      }
    },
    {
      "cell_type": "code",
      "source": [
        "def measure_latency(func, *args):\n",
        "    start_time = time.time()\n",
        "    result = func(*args)\n",
        "    end_time = time.time()\n",
        "\n",
        "    latency = end_time - start_time  # Time in seconds\n",
        "    print(f\"Latency: {latency:.6f} seconds\")\n",
        "    return result\n",
        "\n",
        "def measure_execution_time(func, *args):\n",
        "    start_time = time.time()\n",
        "    result = func(*args)\n",
        "    end_time = time.time()\n",
        "\n",
        "    execution_time = end_time - start_time\n",
        "    print(f\"Execution time: {execution_time:.6f} seconds\")\n",
        "    return result"
      ],
      "metadata": {
        "id": "at8Z3nmE7eqJ"
      },
      "execution_count": 17,
      "outputs": []
    },
    {
      "cell_type": "code",
      "source": [
        "class MaintainabilityMonitor:\n",
        "    def __init__(self):\n",
        "        self.downtime = 0\n",
        "        self.start_time = time.time()\n",
        "\n",
        "    def log_downtime(self, down_duration):\n",
        "        self.downtime += down_duration\n",
        "        print(f\"Downtime recorded: {down_duration} seconds\")\n",
        "        print(f\"Total downtime so far: {self.downtime} seconds\")\n",
        "\n",
        "    def simulate_failure(self, down_duration):\n",
        "        print(\"Simulating system downtime...\")\n",
        "        time.sleep(down_duration)\n",
        "        self.log_downtime(down_duration)\n",
        "\n",
        "    def uptime(self):\n",
        "        current_time = time.time()\n",
        "        uptime = current_time - self.start_time - self.downtime\n",
        "        print(f\"Current uptime: {uptime:.6f} seconds\")\n",
        "        return uptime"
      ],
      "metadata": {
        "id": "p9KKo7g7-XS-"
      },
      "execution_count": 18,
      "outputs": []
    },
    {
      "cell_type": "markdown",
      "source": [
        "# Measure Downtime"
      ],
      "metadata": {
        "id": "1QhPRSsk7i4h"
      }
    },
    {
      "cell_type": "code",
      "source": [
        "# Class to simulate and track downtime\n",
        "class MaintainabilityMonitor:\n",
        "    def __init__(self):\n",
        "        self.downtime = 0\n",
        "        self.is_running = True\n",
        "        self.start_time = time.time()\n",
        "\n",
        "    def log_downtime(self, down_duration):\n",
        "        self.downtime += down_duration\n",
        "        print(f\"Total downtime: {self.downtime} seconds\")\n",
        "\n",
        "    def simulate_failure(self, down_duration):\n",
        "        print(\"System down for maintenance or failure\")\n",
        "        time.sleep(down_duration)\n",
        "        self.log_downtime(down_duration)\n",
        "\n",
        "    def uptime(self):\n",
        "        current_time = time.time()\n",
        "        return current_time - self.start_time - self.downtime\n",
        "\n",
        "# Example usage to simulate a failure\n",
        "# monitor = MaintainabilityMonitor()\n",
        "# monitor.simulate_failure(2)  # Simulate 2 seconds of downtime\n",
        "# print(f\"Uptime: {monitor.uptime()} seconds\")"
      ],
      "metadata": {
        "id": "e0d7HkXn7k6V"
      },
      "execution_count": 6,
      "outputs": []
    },
    {
      "cell_type": "markdown",
      "source": [
        "# Measure Execution Time"
      ],
      "metadata": {
        "id": "ZG-8dugM7n2a"
      }
    },
    {
      "cell_type": "code",
      "source": [
        "# Measure execution time with variable input size\n",
        "def measure_execution_time(func, *args):\n",
        "    start_time = time.time()\n",
        "    result = func(*args)\n",
        "    end_time = time.time()\n",
        "\n",
        "    execution_time = end_time - start_time\n",
        "    print(f\"Execution time: {execution_time} seconds\")\n",
        "    return result\n",
        "\n",
        "# Example function to test execution time with scaling\n",
        "def scaling_task(n):\n",
        "    # Simulate workload\n",
        "    time.sleep(0.1 * n)  # Example: delay increases with input size\n",
        "    return f\"Task for n={n} complete\"\n",
        "\n",
        "# Example usage\n",
        "# result = measure_execution_time(scaling_task, 10)  # Test with n=10"
      ],
      "metadata": {
        "id": "6X3Yebk-7plW"
      },
      "execution_count": 7,
      "outputs": []
    },
    {
      "cell_type": "markdown",
      "source": [
        "# Demo"
      ],
      "metadata": {
        "id": "dWFuAcTC7uuu"
      }
    },
    {
      "cell_type": "code",
      "source": [
        "# Load and process images while collecting metrics\n",
        "def process_and_measure(image_path, kernel_size):\n",
        "    # Load the image\n",
        "    defective_img = Image.open(image_path)\n",
        "\n",
        "    # Measure latency (performance)\n",
        "    print(\"Measuring Latency...\")\n",
        "    marked_defect = measure_latency(get_marked_image, defective_img, kernel_size, False)\n",
        "\n",
        "    # Simulate downtime (maintainability)\n",
        "    print(\"\\nSimulating Downtime...\")\n",
        "    monitor = MaintainabilityMonitor()\n",
        "    monitor.simulate_failure(1)  # Simulate 1 second of downtime\n",
        "    uptime = monitor.uptime()\n",
        "\n",
        "    # Measure execution time (scalability)\n",
        "    print(\"\\nMeasuring Execution Time...\")\n",
        "    execution_result = measure_execution_time(get_marked_image, defective_img, kernel_size, False)\n",
        "\n",
        "# Example usage with a defective image\n",
        "process_and_measure('/content/download.png', 5)"
      ],
      "metadata": {
        "colab": {
          "base_uri": "https://localhost:8080/"
        },
        "id": "6VG7BCxA7voG",
        "outputId": "23bb9db7-ad31-494f-8553-866a62f94b7d"
      },
      "execution_count": 19,
      "outputs": [
        {
          "output_type": "stream",
          "name": "stdout",
          "text": [
            "Measuring Latency...\n",
            "Latency: 0.054425 seconds\n",
            "\n",
            "Simulating Downtime...\n",
            "Simulating system downtime...\n",
            "Downtime recorded: 1 seconds\n",
            "Total downtime so far: 1 seconds\n",
            "Current uptime: 0.001284 seconds\n",
            "\n",
            "Measuring Execution Time...\n",
            "Execution time: 0.003391 seconds\n"
          ]
        }
      ]
    }
  ]
}